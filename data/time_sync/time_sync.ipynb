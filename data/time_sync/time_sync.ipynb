{
 "cells": [
  {
   "cell_type": "markdown",
   "id": "f07815fc-4225-4302-9a1c-4359bfdf8979",
   "metadata": {},
   "source": [
    "\n",
    "# Time Syncronization of DESI Telemetry Data\n",
    "\n",
    "As is, the DESI telemetry data is spread out across multiple different tables. As is is shown in the correlations plots in the `correlation` folder, there us very weak correlation across different tables. Before proper analysis can be done, the several datatables of interest must \n",
    "be syncronized in time. This involves rebinning and interpolation of the data is currently being hosted by NERSC."
   ]
  },
  {
   "cell_type": "markdown",
   "id": "cd1ac51f-b133-4c5d-9da9-21ffd6bf3533",
   "metadata": {},
   "source": [
    "## Imports"
   ]
  },
  {
   "cell_type": "code",
   "execution_count": null,
   "id": "0f7a9562-1fea-4c13-8de5-825eab18bd8a",
   "metadata": {},
   "outputs": [],
   "source": [
    "import pandas as pd\n",
    "import matplotlib.pyplot as plt\n",
    "from IPython.display import display, Image"
   ]
  },
  {
   "cell_type": "markdown",
   "id": "fdb62e24-6d00-42da-adb3-f2f4f71a6b51",
   "metadata": {},
   "source": [
    "## Load Data"
   ]
  },
  {
   "cell_type": "code",
   "execution_count": null,
   "id": "3b6fc49c-03d1-43ad-918a-f0cea594047c",
   "metadata": {},
   "outputs": [],
   "source": [
    "tower_data = pd.read_pickle('../environmentmonitor_tower.pkl')\n",
    "dome_data = pd.read_pickle('../environmentmonitor_dome.pkl')\n",
    "telescope_data = pd.read_pickle('../environmentmonitor_telescope.pkl')\n",
    "etc_seeing_data = pd.read_pickle('../etc_seeing.pkl')\n",
    "etc_telemetry_data = pd.read_pickle('../etc_telemetry.pkl')\n",
    "tcs_info_data = pd.read_pickle('../tcs_info.pkl')"
   ]
  },
  {
   "cell_type": "markdown",
   "id": "e7ca056a-65d3-4f85-a4cb-eb032c265422",
   "metadata": {},
   "source": [
    "## TODO: Sort Data"
   ]
  },
  {
   "cell_type": "code",
   "execution_count": null,
   "id": "1a5dc48b-41dd-4dc8-a2d9-3a885aa2b0b8",
   "metadata": {},
   "outputs": [],
   "source": [
    "# assert(min(tower_data['time_recorded'])==tower_data['time_recorded'][0])\n",
    "# assert(min(dome_data['time_recorded'])==dome_data['time_recorded'][0])\n",
    "# assert(min(telescope_data['time_recorded'])==telescope_data['time_recorded'][0])\n",
    "# assert(min(etc_seeing_data['time_recorded'])==etc_seeing_data['time_recorded'][0])\n",
    "# assert(min(etc_telemetry_data['time_recorded'])==etc_telemetry_data['time_recorded'][0])\n",
    "# assert(min(tcs_info_data['time_recorded'])==tcs_info_data['time_recorded'][0])"
   ]
  },
  {
   "cell_type": "markdown",
   "id": "b2fe9a86-e0c1-4aa6-bdc8-c3bba4a7267d",
   "metadata": {},
   "source": [
    "## Data Visualization Before Syncrization"
   ]
  },
  {
   "cell_type": "code",
   "execution_count": null,
   "id": "c3cfe091-19f9-455a-a1f2-b23b8e3c5378",
   "metadata": {},
   "outputs": [],
   "source": [
    "display(Image(filename='../correlation/temp_corr_before_sync.png'))"
   ]
  },
  {
   "cell_type": "markdown",
   "id": "7d5477ad-fec2-415c-b960-0f19707cbecc",
   "metadata": {},
   "source": [
    "Here, we see strong correlation amongst all the columns related to the dome. However, the mirror-related quantities are not strongly correlated. We would expect the mirror temperature to rise along with the temperature inside the dome. "
   ]
  },
  {
   "cell_type": "code",
   "execution_count": null,
   "id": "d7167fbf-68cb-4b14-8e9d-4ddcf94ef1b4",
   "metadata": {},
   "outputs": [],
   "source": [
    "print('initial number of samples per table')\n",
    "print(f'environmentmonitor_tower: {len(tower_data.index)}')\n",
    "print(f'environmentmonitor_dome: {len(dome_data.index)}')\n",
    "print(f'environmentmonitor_telescope: {len(telescope_data.index)}')\n",
    "print(f'etc_seeing: {len(etc_seeing_data.index)}')\n",
    "print(f'etc_telemetry: {len(etc_telemetry_data.index)}')\n",
    "print(f'tcs_info: {len(tcs_info_data.index)}')"
   ]
  },
  {
   "cell_type": "code",
   "execution_count": null,
   "id": "3f2d64e4-46a2-40ac-a0c1-99a357196b5d",
   "metadata": {},
   "outputs": [],
   "source": [
    "# fig, ax = plt.subplots(ncols=4, figsize=(40,10))\n",
    "\n",
    "# ax[0].scatter(tower_data['time_recorded'], tower_data['temperature'])\n",
    "# ax[0].set_xlabel('time_recorded')\n",
    "# ax[0].set_ylabel('temperature')\n",
    "\n",
    "# ax[1].scatter(telescope_data['time_recorded'], telescope_data['mirror_avg_temp'])\n",
    "# ax[1].set_xlabel('time_recorded')\n",
    "# ax[1].set_ylabel('mirror_avg_temp')\n",
    "\n",
    "# ax[2].scatter(telescope_data['time_recorded'], telescope_data['mirror_desired_temp'])\n",
    "# ax[2].set_xlabel('time_recorded')\n",
    "# ax[2].set_ylabel('mirror_desired_temp')\n",
    "\n",
    "# ax[3].scatter(etc_telemetry['time_recorded'], etc_telemetry['seeing'])\n",
    "# ax[3].set_xlabel('time_recorded')\n",
    "# ax[3].set_ylabel('seeing')\n",
    "\n",
    "# plt.savefig('seeing_vs_time.png')\n",
    "# plt.show()"
   ]
  }
 ],
 "metadata": {
  "kernelspec": {
   "display_name": "NERSC Python",
   "language": "python",
   "name": "python3"
  },
  "language_info": {
   "codemirror_mode": {
    "name": "ipython",
    "version": 3
   },
   "file_extension": ".py",
   "mimetype": "text/x-python",
   "name": "python",
   "nbconvert_exporter": "python",
   "pygments_lexer": "ipython3",
   "version": "3.9.7"
  }
 },
 "nbformat": 4,
 "nbformat_minor": 5
}
